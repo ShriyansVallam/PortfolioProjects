{
 "cells": [
  {
   "cell_type": "code",
   "execution_count": 1,
   "id": "e4477188",
   "metadata": {},
   "outputs": [
    {
     "name": "stderr",
     "output_type": "stream",
     "text": [
      "C:\\Users\\Shriyans\\AppData\\Local\\Temp\\ipykernel_27456\\1479043818.py:5: MatplotlibDeprecationWarning: The seaborn styles shipped by Matplotlib are deprecated since 3.6, as they no longer correspond to the styles shipped by seaborn. However, they will remain available as 'seaborn-v0_8-<style>'. Alternatively, directly use the seaborn API instead.\n",
      "  plt.style.use('seaborn')\n"
     ]
    }
   ],
   "source": [
    "import pandas as pd\n",
    "import numpy as np\n",
    "import matplotlib.pyplot as plt\n",
    "from scipy import stats\n",
    "plt.style.use('seaborn')\n",
    "%matplotlib inline\n",
    "import seaborn as sns\n",
    "from sklearn.preprocessing import MinMaxScaler\n",
    "from sklearn.preprocessing import RobustScaler\n",
    "from sklearn.model_selection import train_test_split\n",
    "from imblearn.under_sampling import RandomUnderSampler\n",
    "from imblearn.over_sampling import RandomOverSampler\n",
    "from imblearn.over_sampling import SMOTE\n",
    "from sklearn.model_selection import GridSearchCV\n"
   ]
  },
  {
   "cell_type": "code",
   "execution_count": 2,
   "id": "0cb9356c",
   "metadata": {},
   "outputs": [],
   "source": [
    "#Workflow\n",
    "#1. Basic EDA\n",
    "#2. Data Preprocessing- Deal with outliers \n",
    "#3. Splitting the dataset into training and testing \n",
    "#4. Resampling- Oversampling and Undersampling\n",
    "#5. Testing various models\n",
    "#6. Hyperparameter tuning "
   ]
  },
  {
   "cell_type": "markdown",
   "id": "7581922c",
   "metadata": {},
   "source": [
    "## 1. Basic EDA"
   ]
  },
  {
   "cell_type": "code",
   "execution_count": 3,
   "id": "66b08fe6",
   "metadata": {},
   "outputs": [],
   "source": [
    "df = pd.read_csv('creditcard.csv')"
   ]
  },
  {
   "cell_type": "code",
   "execution_count": 4,
   "id": "0f5865b8",
   "metadata": {},
   "outputs": [
    {
     "data": {
      "text/html": [
       "<div>\n",
       "<style scoped>\n",
       "    .dataframe tbody tr th:only-of-type {\n",
       "        vertical-align: middle;\n",
       "    }\n",
       "\n",
       "    .dataframe tbody tr th {\n",
       "        vertical-align: top;\n",
       "    }\n",
       "\n",
       "    .dataframe thead th {\n",
       "        text-align: right;\n",
       "    }\n",
       "</style>\n",
       "<table border=\"1\" class=\"dataframe\">\n",
       "  <thead>\n",
       "    <tr style=\"text-align: right;\">\n",
       "      <th></th>\n",
       "      <th>Time</th>\n",
       "      <th>V1</th>\n",
       "      <th>V2</th>\n",
       "      <th>V3</th>\n",
       "      <th>V4</th>\n",
       "      <th>V5</th>\n",
       "      <th>V6</th>\n",
       "      <th>V7</th>\n",
       "      <th>V8</th>\n",
       "      <th>V9</th>\n",
       "      <th>...</th>\n",
       "      <th>V21</th>\n",
       "      <th>V22</th>\n",
       "      <th>V23</th>\n",
       "      <th>V24</th>\n",
       "      <th>V25</th>\n",
       "      <th>V26</th>\n",
       "      <th>V27</th>\n",
       "      <th>V28</th>\n",
       "      <th>Amount</th>\n",
       "      <th>Class</th>\n",
       "    </tr>\n",
       "  </thead>\n",
       "  <tbody>\n",
       "    <tr>\n",
       "      <th>0</th>\n",
       "      <td>0.0</td>\n",
       "      <td>-1.359807</td>\n",
       "      <td>-0.072781</td>\n",
       "      <td>2.536347</td>\n",
       "      <td>1.378155</td>\n",
       "      <td>-0.338321</td>\n",
       "      <td>0.462388</td>\n",
       "      <td>0.239599</td>\n",
       "      <td>0.098698</td>\n",
       "      <td>0.363787</td>\n",
       "      <td>...</td>\n",
       "      <td>-0.018307</td>\n",
       "      <td>0.277838</td>\n",
       "      <td>-0.110474</td>\n",
       "      <td>0.066928</td>\n",
       "      <td>0.128539</td>\n",
       "      <td>-0.189115</td>\n",
       "      <td>0.133558</td>\n",
       "      <td>-0.021053</td>\n",
       "      <td>149.62</td>\n",
       "      <td>0</td>\n",
       "    </tr>\n",
       "    <tr>\n",
       "      <th>1</th>\n",
       "      <td>0.0</td>\n",
       "      <td>1.191857</td>\n",
       "      <td>0.266151</td>\n",
       "      <td>0.166480</td>\n",
       "      <td>0.448154</td>\n",
       "      <td>0.060018</td>\n",
       "      <td>-0.082361</td>\n",
       "      <td>-0.078803</td>\n",
       "      <td>0.085102</td>\n",
       "      <td>-0.255425</td>\n",
       "      <td>...</td>\n",
       "      <td>-0.225775</td>\n",
       "      <td>-0.638672</td>\n",
       "      <td>0.101288</td>\n",
       "      <td>-0.339846</td>\n",
       "      <td>0.167170</td>\n",
       "      <td>0.125895</td>\n",
       "      <td>-0.008983</td>\n",
       "      <td>0.014724</td>\n",
       "      <td>2.69</td>\n",
       "      <td>0</td>\n",
       "    </tr>\n",
       "    <tr>\n",
       "      <th>2</th>\n",
       "      <td>1.0</td>\n",
       "      <td>-1.358354</td>\n",
       "      <td>-1.340163</td>\n",
       "      <td>1.773209</td>\n",
       "      <td>0.379780</td>\n",
       "      <td>-0.503198</td>\n",
       "      <td>1.800499</td>\n",
       "      <td>0.791461</td>\n",
       "      <td>0.247676</td>\n",
       "      <td>-1.514654</td>\n",
       "      <td>...</td>\n",
       "      <td>0.247998</td>\n",
       "      <td>0.771679</td>\n",
       "      <td>0.909412</td>\n",
       "      <td>-0.689281</td>\n",
       "      <td>-0.327642</td>\n",
       "      <td>-0.139097</td>\n",
       "      <td>-0.055353</td>\n",
       "      <td>-0.059752</td>\n",
       "      <td>378.66</td>\n",
       "      <td>0</td>\n",
       "    </tr>\n",
       "    <tr>\n",
       "      <th>3</th>\n",
       "      <td>1.0</td>\n",
       "      <td>-0.966272</td>\n",
       "      <td>-0.185226</td>\n",
       "      <td>1.792993</td>\n",
       "      <td>-0.863291</td>\n",
       "      <td>-0.010309</td>\n",
       "      <td>1.247203</td>\n",
       "      <td>0.237609</td>\n",
       "      <td>0.377436</td>\n",
       "      <td>-1.387024</td>\n",
       "      <td>...</td>\n",
       "      <td>-0.108300</td>\n",
       "      <td>0.005274</td>\n",
       "      <td>-0.190321</td>\n",
       "      <td>-1.175575</td>\n",
       "      <td>0.647376</td>\n",
       "      <td>-0.221929</td>\n",
       "      <td>0.062723</td>\n",
       "      <td>0.061458</td>\n",
       "      <td>123.50</td>\n",
       "      <td>0</td>\n",
       "    </tr>\n",
       "    <tr>\n",
       "      <th>4</th>\n",
       "      <td>2.0</td>\n",
       "      <td>-1.158233</td>\n",
       "      <td>0.877737</td>\n",
       "      <td>1.548718</td>\n",
       "      <td>0.403034</td>\n",
       "      <td>-0.407193</td>\n",
       "      <td>0.095921</td>\n",
       "      <td>0.592941</td>\n",
       "      <td>-0.270533</td>\n",
       "      <td>0.817739</td>\n",
       "      <td>...</td>\n",
       "      <td>-0.009431</td>\n",
       "      <td>0.798278</td>\n",
       "      <td>-0.137458</td>\n",
       "      <td>0.141267</td>\n",
       "      <td>-0.206010</td>\n",
       "      <td>0.502292</td>\n",
       "      <td>0.219422</td>\n",
       "      <td>0.215153</td>\n",
       "      <td>69.99</td>\n",
       "      <td>0</td>\n",
       "    </tr>\n",
       "  </tbody>\n",
       "</table>\n",
       "<p>5 rows × 31 columns</p>\n",
       "</div>"
      ],
      "text/plain": [
       "   Time        V1        V2        V3        V4        V5        V6        V7  \\\n",
       "0   0.0 -1.359807 -0.072781  2.536347  1.378155 -0.338321  0.462388  0.239599   \n",
       "1   0.0  1.191857  0.266151  0.166480  0.448154  0.060018 -0.082361 -0.078803   \n",
       "2   1.0 -1.358354 -1.340163  1.773209  0.379780 -0.503198  1.800499  0.791461   \n",
       "3   1.0 -0.966272 -0.185226  1.792993 -0.863291 -0.010309  1.247203  0.237609   \n",
       "4   2.0 -1.158233  0.877737  1.548718  0.403034 -0.407193  0.095921  0.592941   \n",
       "\n",
       "         V8        V9  ...       V21       V22       V23       V24       V25  \\\n",
       "0  0.098698  0.363787  ... -0.018307  0.277838 -0.110474  0.066928  0.128539   \n",
       "1  0.085102 -0.255425  ... -0.225775 -0.638672  0.101288 -0.339846  0.167170   \n",
       "2  0.247676 -1.514654  ...  0.247998  0.771679  0.909412 -0.689281 -0.327642   \n",
       "3  0.377436 -1.387024  ... -0.108300  0.005274 -0.190321 -1.175575  0.647376   \n",
       "4 -0.270533  0.817739  ... -0.009431  0.798278 -0.137458  0.141267 -0.206010   \n",
       "\n",
       "        V26       V27       V28  Amount  Class  \n",
       "0 -0.189115  0.133558 -0.021053  149.62      0  \n",
       "1  0.125895 -0.008983  0.014724    2.69      0  \n",
       "2 -0.139097 -0.055353 -0.059752  378.66      0  \n",
       "3 -0.221929  0.062723  0.061458  123.50      0  \n",
       "4  0.502292  0.219422  0.215153   69.99      0  \n",
       "\n",
       "[5 rows x 31 columns]"
      ]
     },
     "execution_count": 4,
     "metadata": {},
     "output_type": "execute_result"
    }
   ],
   "source": [
    "df.head(5)"
   ]
  },
  {
   "cell_type": "code",
   "execution_count": 5,
   "id": "ce810853",
   "metadata": {},
   "outputs": [
    {
     "name": "stdout",
     "output_type": "stream",
     "text": [
      "<class 'pandas.core.frame.DataFrame'>\n",
      "RangeIndex: 284807 entries, 0 to 284806\n",
      "Data columns (total 31 columns):\n",
      " #   Column  Non-Null Count   Dtype  \n",
      "---  ------  --------------   -----  \n",
      " 0   Time    284807 non-null  float64\n",
      " 1   V1      284807 non-null  float64\n",
      " 2   V2      284807 non-null  float64\n",
      " 3   V3      284807 non-null  float64\n",
      " 4   V4      284807 non-null  float64\n",
      " 5   V5      284807 non-null  float64\n",
      " 6   V6      284807 non-null  float64\n",
      " 7   V7      284807 non-null  float64\n",
      " 8   V8      284807 non-null  float64\n",
      " 9   V9      284807 non-null  float64\n",
      " 10  V10     284807 non-null  float64\n",
      " 11  V11     284807 non-null  float64\n",
      " 12  V12     284807 non-null  float64\n",
      " 13  V13     284807 non-null  float64\n",
      " 14  V14     284807 non-null  float64\n",
      " 15  V15     284807 non-null  float64\n",
      " 16  V16     284807 non-null  float64\n",
      " 17  V17     284807 non-null  float64\n",
      " 18  V18     284807 non-null  float64\n",
      " 19  V19     284807 non-null  float64\n",
      " 20  V20     284807 non-null  float64\n",
      " 21  V21     284807 non-null  float64\n",
      " 22  V22     284807 non-null  float64\n",
      " 23  V23     284807 non-null  float64\n",
      " 24  V24     284807 non-null  float64\n",
      " 25  V25     284807 non-null  float64\n",
      " 26  V26     284807 non-null  float64\n",
      " 27  V27     284807 non-null  float64\n",
      " 28  V28     284807 non-null  float64\n",
      " 29  Amount  284807 non-null  float64\n",
      " 30  Class   284807 non-null  int64  \n",
      "dtypes: float64(30), int64(1)\n",
      "memory usage: 67.4 MB\n"
     ]
    }
   ],
   "source": [
    "df.info()\n"
   ]
  },
  {
   "cell_type": "code",
   "execution_count": 6,
   "id": "700f09de",
   "metadata": {},
   "outputs": [
    {
     "data": {
      "text/plain": [
       "Index(['Time', 'V1', 'V2', 'V3', 'V4', 'V5', 'V6', 'V7', 'V8', 'V9', 'V10',\n",
       "       'V11', 'V12', 'V13', 'V14', 'V15', 'V16', 'V17', 'V18', 'V19', 'V20',\n",
       "       'V21', 'V22', 'V23', 'V24', 'V25', 'V26', 'V27', 'V28', 'Amount',\n",
       "       'Class'],\n",
       "      dtype='object')"
      ]
     },
     "execution_count": 6,
     "metadata": {},
     "output_type": "execute_result"
    }
   ],
   "source": [
    "#check the column names \n",
    "\n",
    "df.columns\n",
    "\n",
    "#we have 28 features + the time and amount "
   ]
  },
  {
   "cell_type": "code",
   "execution_count": 7,
   "id": "e70310c5",
   "metadata": {},
   "outputs": [
    {
     "data": {
      "text/plain": [
       "Time      0\n",
       "V1        0\n",
       "V2        0\n",
       "V3        0\n",
       "V4        0\n",
       "V5        0\n",
       "V6        0\n",
       "V7        0\n",
       "V8        0\n",
       "V9        0\n",
       "V10       0\n",
       "V11       0\n",
       "V12       0\n",
       "V13       0\n",
       "V14       0\n",
       "V15       0\n",
       "V16       0\n",
       "V17       0\n",
       "V18       0\n",
       "V19       0\n",
       "V20       0\n",
       "V21       0\n",
       "V22       0\n",
       "V23       0\n",
       "V24       0\n",
       "V25       0\n",
       "V26       0\n",
       "V27       0\n",
       "V28       0\n",
       "Amount    0\n",
       "Class     0\n",
       "dtype: int64"
      ]
     },
     "execution_count": 7,
     "metadata": {},
     "output_type": "execute_result"
    }
   ],
   "source": [
    "#Check for null values\n",
    "df.isnull().sum()\n",
    "#There are no null values "
   ]
  },
  {
   "cell_type": "code",
   "execution_count": 8,
   "id": "d9e24945",
   "metadata": {},
   "outputs": [
    {
     "name": "stdout",
     "output_type": "stream",
     "text": [
      "No Frauds 99.83 % of the dataset\n",
      "Frauds 0.17 % of the dataset\n"
     ]
    },
    {
     "data": {
      "text/plain": [
       "0    284315\n",
       "1       492\n",
       "Name: Class, dtype: int64"
      ]
     },
     "execution_count": 8,
     "metadata": {},
     "output_type": "execute_result"
    }
   ],
   "source": [
    "#Check the class balance\n",
    "print('No Frauds', round(df['Class'].value_counts()[0]/len(df) * 100,2), '% of the dataset')\n",
    "print('Frauds', round(df['Class'].value_counts()[1]/len(df) * 100,2), '% of the dataset')\n",
    "\n",
    "df['Class'].value_counts()\n",
    "\n",
    "#As we can see the dataset is extremely unbalancded with only 492 instances of fraud"
   ]
  },
  {
   "cell_type": "markdown",
   "id": "f5a40b81",
   "metadata": {},
   "source": [
    "## 2. Data Pre-Processing"
   ]
  },
  {
   "cell_type": "code",
   "execution_count": 9,
   "id": "084354fa",
   "metadata": {},
   "outputs": [
    {
     "data": {
      "image/png": "[encoded data removed]",
      "text/plain": [
       "<Figure size 1500x2100 with 28 Axes>"
      ]
     },
     "metadata": {},
     "output_type": "display_data"
    }
   ],
   "source": [
    "#Checking for outliers \n",
    "# Selecting only the columns representing features (excluding 'Time', 'Amount', 'Class')\n",
    "features = df.drop(['Time', 'Amount', 'Class'], axis=1)\n",
    "\n",
    "num_features = len(features.columns)\n",
    "num_rows = (num_features // 4) + (1 if num_features % 4 > 0 else 0)\n",
    "num_cols = 4\n",
    "\n",
    "fig, axs = plt.subplots(num_rows, num_cols, figsize=(15, num_rows * 3))\n",
    "\n",
    "# Flatten the axes object for easy iteration\n",
    "axs = axs.flatten()\n",
    "\n",
    "# Plot box and whisker plots for each feature\n",
    "for i, column in enumerate(features.columns):\n",
    "    axs[i].boxplot(features[column], vert = False)\n",
    "    axs[i].set_title(f'Boxplot of {column}')\n",
    "    axs[i].set_xlabel(column)\n",
    "    axs[i].set_ylabel('Values')\n",
    "    axs[i].grid(True)\n",
    "\n",
    "# Hide any extra subplots\n",
    "for j in range(num_features, num_rows * num_cols):\n",
    "    axs[j].axis('off')\n",
    "\n",
    "plt.tight_layout()\n",
    "plt.show()\n"
   ]
  },
  {
   "cell_type": "markdown",
   "id": "12b5f9de",
   "metadata": {},
   "source": [
    "As we can see our data has numerous outliers and is also very skewed, however I am choosing not to remove outliers as outliers in credit card transactions may be instances of fraud. In addition, the goal is to build a robust model that is not heavily influenced by outliers."
   ]
  },
  {
   "cell_type": "code",
   "execution_count": 10,
   "id": "7375e6ba",
   "metadata": {},
   "outputs": [],
   "source": [
    "#Scaling time and amount\n",
    "\n",
    "#For time I will be using MinMax Scaler\n",
    "\n",
    "#For amount I will be using RobustScaling\n",
    "\n",
    "MinMax = MinMaxScaler()\n",
    "RobScaler = RobustScaler()\n",
    "\n",
    "df['scaled_time'] = MinMax.fit_transform(df['Time'].values.reshape(-1,1))\n",
    "df['scaled_amount'] = RobScaler.fit_transform(df['Amount'].values.reshape(-1,1))"
   ]
  },
  {
   "cell_type": "code",
   "execution_count": 11,
   "id": "315c4fa0",
   "metadata": {},
   "outputs": [],
   "source": [
    "columns_to_Drop =[\"Time\", 'Amount']\n",
    "\n",
    "df = df.drop(columns = columns_to_Drop)"
   ]
  },
  {
   "cell_type": "code",
   "execution_count": 12,
   "id": "3d348d54",
   "metadata": {},
   "outputs": [
    {
     "data": {
      "text/html": [
       "<div>\n",
       "<style scoped>\n",
       "    .dataframe tbody tr th:only-of-type {\n",
       "        vertical-align: middle;\n",
       "    }\n",
       "\n",
       "    .dataframe tbody tr th {\n",
       "        vertical-align: top;\n",
       "    }\n",
       "\n",
       "    .dataframe thead th {\n",
       "        text-align: right;\n",
       "    }\n",
       "</style>\n",
       "<table border=\"1\" class=\"dataframe\">\n",
       "  <thead>\n",
       "    <tr style=\"text-align: right;\">\n",
       "      <th></th>\n",
       "      <th>V1</th>\n",
       "      <th>V2</th>\n",
       "      <th>V3</th>\n",
       "      <th>V4</th>\n",
       "      <th>V5</th>\n",
       "      <th>V6</th>\n",
       "      <th>V7</th>\n",
       "      <th>V8</th>\n",
       "      <th>V9</th>\n",
       "      <th>V10</th>\n",
       "      <th>...</th>\n",
       "      <th>V22</th>\n",
       "      <th>V23</th>\n",
       "      <th>V24</th>\n",
       "      <th>V25</th>\n",
       "      <th>V26</th>\n",
       "      <th>V27</th>\n",
       "      <th>V28</th>\n",
       "      <th>Class</th>\n",
       "      <th>scaled_time</th>\n",
       "      <th>scaled_amount</th>\n",
       "    </tr>\n",
       "  </thead>\n",
       "  <tbody>\n",
       "    <tr>\n",
       "      <th>0</th>\n",
       "      <td>-1.359807</td>\n",
       "      <td>-0.072781</td>\n",
       "      <td>2.536347</td>\n",
       "      <td>1.378155</td>\n",
       "      <td>-0.338321</td>\n",
       "      <td>0.462388</td>\n",
       "      <td>0.239599</td>\n",
       "      <td>0.098698</td>\n",
       "      <td>0.363787</td>\n",
       "      <td>0.090794</td>\n",
       "      <td>...</td>\n",
       "      <td>0.277838</td>\n",
       "      <td>-0.110474</td>\n",
       "      <td>0.066928</td>\n",
       "      <td>0.128539</td>\n",
       "      <td>-0.189115</td>\n",
       "      <td>0.133558</td>\n",
       "      <td>-0.021053</td>\n",
       "      <td>0</td>\n",
       "      <td>0.000000</td>\n",
       "      <td>1.783274</td>\n",
       "    </tr>\n",
       "    <tr>\n",
       "      <th>1</th>\n",
       "      <td>1.191857</td>\n",
       "      <td>0.266151</td>\n",
       "      <td>0.166480</td>\n",
       "      <td>0.448154</td>\n",
       "      <td>0.060018</td>\n",
       "      <td>-0.082361</td>\n",
       "      <td>-0.078803</td>\n",
       "      <td>0.085102</td>\n",
       "      <td>-0.255425</td>\n",
       "      <td>-0.166974</td>\n",
       "      <td>...</td>\n",
       "      <td>-0.638672</td>\n",
       "      <td>0.101288</td>\n",
       "      <td>-0.339846</td>\n",
       "      <td>0.167170</td>\n",
       "      <td>0.125895</td>\n",
       "      <td>-0.008983</td>\n",
       "      <td>0.014724</td>\n",
       "      <td>0</td>\n",
       "      <td>0.000000</td>\n",
       "      <td>-0.269825</td>\n",
       "    </tr>\n",
       "    <tr>\n",
       "      <th>2</th>\n",
       "      <td>-1.358354</td>\n",
       "      <td>-1.340163</td>\n",
       "      <td>1.773209</td>\n",
       "      <td>0.379780</td>\n",
       "      <td>-0.503198</td>\n",
       "      <td>1.800499</td>\n",
       "      <td>0.791461</td>\n",
       "      <td>0.247676</td>\n",
       "      <td>-1.514654</td>\n",
       "      <td>0.207643</td>\n",
       "      <td>...</td>\n",
       "      <td>0.771679</td>\n",
       "      <td>0.909412</td>\n",
       "      <td>-0.689281</td>\n",
       "      <td>-0.327642</td>\n",
       "      <td>-0.139097</td>\n",
       "      <td>-0.055353</td>\n",
       "      <td>-0.059752</td>\n",
       "      <td>0</td>\n",
       "      <td>0.000006</td>\n",
       "      <td>4.983721</td>\n",
       "    </tr>\n",
       "    <tr>\n",
       "      <th>3</th>\n",
       "      <td>-0.966272</td>\n",
       "      <td>-0.185226</td>\n",
       "      <td>1.792993</td>\n",
       "      <td>-0.863291</td>\n",
       "      <td>-0.010309</td>\n",
       "      <td>1.247203</td>\n",
       "      <td>0.237609</td>\n",
       "      <td>0.377436</td>\n",
       "      <td>-1.387024</td>\n",
       "      <td>-0.054952</td>\n",
       "      <td>...</td>\n",
       "      <td>0.005274</td>\n",
       "      <td>-0.190321</td>\n",
       "      <td>-1.175575</td>\n",
       "      <td>0.647376</td>\n",
       "      <td>-0.221929</td>\n",
       "      <td>0.062723</td>\n",
       "      <td>0.061458</td>\n",
       "      <td>0</td>\n",
       "      <td>0.000006</td>\n",
       "      <td>1.418291</td>\n",
       "    </tr>\n",
       "    <tr>\n",
       "      <th>4</th>\n",
       "      <td>-1.158233</td>\n",
       "      <td>0.877737</td>\n",
       "      <td>1.548718</td>\n",
       "      <td>0.403034</td>\n",
       "      <td>-0.407193</td>\n",
       "      <td>0.095921</td>\n",
       "      <td>0.592941</td>\n",
       "      <td>-0.270533</td>\n",
       "      <td>0.817739</td>\n",
       "      <td>0.753074</td>\n",
       "      <td>...</td>\n",
       "      <td>0.798278</td>\n",
       "      <td>-0.137458</td>\n",
       "      <td>0.141267</td>\n",
       "      <td>-0.206010</td>\n",
       "      <td>0.502292</td>\n",
       "      <td>0.219422</td>\n",
       "      <td>0.215153</td>\n",
       "      <td>0</td>\n",
       "      <td>0.000012</td>\n",
       "      <td>0.670579</td>\n",
       "    </tr>\n",
       "  </tbody>\n",
       "</table>\n",
       "<p>5 rows × 31 columns</p>\n",
       "</div>"
      ],
      "text/plain": [
       "         V1        V2        V3        V4        V5        V6        V7  \\\n",
       "0 -1.359807 -0.072781  2.536347  1.378155 -0.338321  0.462388  0.239599   \n",
       "1  1.191857  0.266151  0.166480  0.448154  0.060018 -0.082361 -0.078803   \n",
       "2 -1.358354 -1.340163  1.773209  0.379780 -0.503198  1.800499  0.791461   \n",
       "3 -0.966272 -0.185226  1.792993 -0.863291 -0.010309  1.247203  0.237609   \n",
       "4 -1.158233  0.877737  1.548718  0.403034 -0.407193  0.095921  0.592941   \n",
       "\n",
       "         V8        V9       V10  ...       V22       V23       V24       V25  \\\n",
       "0  0.098698  0.363787  0.090794  ...  0.277838 -0.110474  0.066928  0.128539   \n",
       "1  0.085102 -0.255425 -0.166974  ... -0.638672  0.101288 -0.339846  0.167170   \n",
       "2  0.247676 -1.514654  0.207643  ...  0.771679  0.909412 -0.689281 -0.327642   \n",
       "3  0.377436 -1.387024 -0.054952  ...  0.005274 -0.190321 -1.175575  0.647376   \n",
       "4 -0.270533  0.817739  0.753074  ...  0.798278 -0.137458  0.141267 -0.206010   \n",
       "\n",
       "        V26       V27       V28  Class  scaled_time  scaled_amount  \n",
       "0 -0.189115  0.133558 -0.021053      0     0.000000       1.783274  \n",
       "1  0.125895 -0.008983  0.014724      0     0.000000      -0.269825  \n",
       "2 -0.139097 -0.055353 -0.059752      0     0.000006       4.983721  \n",
       "3 -0.221929  0.062723  0.061458      0     0.000006       1.418291  \n",
       "4  0.502292  0.219422  0.215153      0     0.000012       0.670579  \n",
       "\n",
       "[5 rows x 31 columns]"
      ]
     },
     "execution_count": 12,
     "metadata": {},
     "output_type": "execute_result"
    }
   ],
   "source": [
    "df.head()"
   ]
  },
  {
   "cell_type": "markdown",
   "id": "a8b2164f",
   "metadata": {},
   "source": [
    "## 3. Splitting the dataset\n"
   ]
  },
  {
   "cell_type": "code",
   "execution_count": 13,
   "id": "8585c291",
   "metadata": {},
   "outputs": [],
   "source": [
    "# Assuming 'data' contains your dataset excluding the 'Class' column\n",
    "X = df.drop('Class', axis=1)  # Features\n",
    "y = df['Class']  # Target variable\n",
    "\n",
    "# Splitting the data into training and testing sets (70-30 split)\n",
    "X_train, X_test, y_train, y_test = train_test_split(X, y, test_size=0.2, random_state=42)\n"
   ]
  },
  {
   "cell_type": "markdown",
   "id": "ee14483f",
   "metadata": {},
   "source": [
    "## 4. ReSampling "
   ]
  },
  {
   "cell_type": "markdown",
   "id": "dcb20418",
   "metadata": {},
   "source": [
    "Resampling \n",
    "\n",
    "There are 2 main methods to resampling data;\n",
    "\n",
    ". Oversampling: involves creating more instances of the minority class by replicating existing samples or generating synthetic samples that resemble the minority class instances. This aims to increase the representation of the minority class in the dataset.\n",
    "\n",
    ". Undersampling: Involves reducing the number of instances in the majority class by randomly removing samples. \n",
    "        This is done to balance the proportion of classes in the dataset."
   ]
  },
  {
   "cell_type": "code",
   "execution_count": 14,
   "id": "b69aefcb",
   "metadata": {},
   "outputs": [],
   "source": [
    "#First lets train and test the data using no resampling (this will serve as our baseline model)\n",
    "from sklearn.linear_model import LogisticRegression\n",
    "from sklearn.metrics import accuracy_score, confusion_matrix, classification_report\n",
    "\n",
    "model_baseline = LogisticRegression(max_iter = 5000)\n",
    "\n",
    "# Train the model\n",
    "model_baseline.fit(X_train, y_train)\n",
    "\n",
    "# Make predictions\n",
    "y_pred_baseline = model_baseline.predict(X_test)"
   ]
  },
  {
   "cell_type": "code",
   "execution_count": 15,
   "id": "b3f22ec9",
   "metadata": {},
   "outputs": [
    {
     "name": "stdout",
     "output_type": "stream",
     "text": [
      "Accuracy: 0.9991222218320986\n",
      "Confusion Matrix:\n",
      "[[56855     9]\n",
      " [   41    57]]\n",
      "Classification Report:\n",
      "              precision    recall  f1-score   support\n",
      "\n",
      "           0       1.00      1.00      1.00     56864\n",
      "           1       0.86      0.58      0.70        98\n",
      "\n",
      "    accuracy                           1.00     56962\n",
      "   macro avg       0.93      0.79      0.85     56962\n",
      "weighted avg       1.00      1.00      1.00     56962\n",
      "\n"
     ]
    }
   ],
   "source": [
    "#Checking results\n",
    "accuracy_baseline = accuracy_score(y_test, y_pred_baseline)\n",
    "conf_matrix = confusion_matrix(y_test, y_pred_baseline)\n",
    "classification_rep = classification_report(y_test, y_pred_baseline)\n",
    "\n",
    "# Print the results\n",
    "print(f\"Accuracy: {accuracy_baseline}\")\n",
    "print(f\"Confusion Matrix:\\n{conf_matrix}\")\n",
    "print(f\"Classification Report:\\n{classification_rep}\")"
   ]
  },
  {
   "cell_type": "markdown",
   "id": "fd0887e2",
   "metadata": {},
   "source": [
    "This model is very biased to the majority class (non-fraud)"
   ]
  },
  {
   "cell_type": "markdown",
   "id": "f9fe7914",
   "metadata": {},
   "source": [
    "### 4.1. Undersampling using RandomUnderSampler"
   ]
  },
  {
   "cell_type": "code",
   "execution_count": 16,
   "id": "8fea0d6c",
   "metadata": {},
   "outputs": [
    {
     "data": {
      "text/plain": [
       "<Axes: xlabel='Class', ylabel='count'>"
      ]
     },
     "execution_count": 16,
     "metadata": {},
     "output_type": "execute_result"
    },
    {
     "data": {
      "image/png": "[encoded data removed]",
      "text/plain": [
       "<Figure size 800x550 with 1 Axes>"
      ]
     },
     "metadata": {},
     "output_type": "display_data"
    }
   ],
   "source": [
    "underSampler = RandomUnderSampler(random_state= 42)\n",
    "X_train_undersampled, y_train_undersampled = underSampler.fit_resample(X_train, y_train)\n",
    "\n",
    "\n",
    "sns.countplot(x=y_train_undersampled, data=df, palette='CMRmap')\n",
    "\n",
    "#As we can see our data is now balanced "
   ]
  },
  {
   "cell_type": "markdown",
   "id": "dea08f3d",
   "metadata": {},
   "source": [
    "### 4.1.2 OverSampling using RandomOverSampler"
   ]
  },
  {
   "cell_type": "code",
   "execution_count": 17,
   "id": "8c8fa8d1",
   "metadata": {},
   "outputs": [
    {
     "data": {
      "text/plain": [
       "<Axes: xlabel='Class', ylabel='count'>"
      ]
     },
     "execution_count": 17,
     "metadata": {},
     "output_type": "execute_result"
    },
    {
     "data": {
      "image/png": "[encoded data removed]",
      "text/plain": [
       "<Figure size 800x550 with 1 Axes>"
      ]
     },
     "metadata": {},
     "output_type": "display_data"
    }
   ],
   "source": [
    "overSampler = RandomOverSampler(random_state = 42)\n",
    "\n",
    "X_train_oversampled, y_train_oversampled = overSampler.fit_resample(X_train, y_train)\n",
    "\n",
    "sns.countplot(x=y_train_oversampled, data=df, palette='CMRmap')\n"
   ]
  },
  {
   "cell_type": "markdown",
   "id": "910b9a52",
   "metadata": {},
   "source": [
    "## 4.1.3 SMOTE \n",
    "\n",
    "SMOTE is another oversampling technique that generates new synthetic samples. It does this by randomly selecting instances from the minority class (fraud) and then for each selected instance of the minority class, finds the k-nearest neighbor and then generates a new data point."
   ]
  },
  {
   "cell_type": "code",
   "execution_count": 18,
   "id": "a02f13da",
   "metadata": {},
   "outputs": [],
   "source": [
    "smote = SMOTE(random_state = 42)\n",
    "\n",
    "X_train_SMOTE, y_train_SMOTE = smote.fit_resample(X_train, y_train)"
   ]
  },
  {
   "cell_type": "code",
   "execution_count": 19,
   "id": "d9714fcb",
   "metadata": {},
   "outputs": [
    {
     "data": {
      "text/plain": [
       "<Axes: xlabel='Class', ylabel='count'>"
      ]
     },
     "execution_count": 19,
     "metadata": {},
     "output_type": "execute_result"
    },
    {
     "data": {
      "image/png": "[encoded data removed]",
      "text/plain": [
       "<Figure size 800x550 with 1 Axes>"
      ]
     },
     "metadata": {},
     "output_type": "display_data"
    }
   ],
   "source": [
    "sns.countplot(x=y_train_SMOTE, data=df, palette='CMRmap')"
   ]
  },
  {
   "cell_type": "markdown",
   "id": "6941bbab",
   "metadata": {},
   "source": [
    "## 5. Deploying Models"
   ]
  },
  {
   "cell_type": "markdown",
   "id": "a0c8b2ce",
   "metadata": {},
   "source": [
    "### 5.1.1 Logistic Regression on UnderSampled Data"
   ]
  },
  {
   "cell_type": "code",
   "execution_count": 20,
   "id": "dbfc837b",
   "metadata": {},
   "outputs": [],
   "source": [
    "from sklearn.linear_model import LogisticRegression\n",
    "from sklearn.metrics import accuracy_score, confusion_matrix, classification_report\n",
    "from sklearn.metrics import matthews_corrcoef\n",
    "\n"
   ]
  },
  {
   "cell_type": "code",
   "execution_count": 21,
   "id": "00b31dd9",
   "metadata": {},
   "outputs": [],
   "source": [
    "#Training using undersampled data\n",
    "# Initialize the Logistic Regression model\n",
    "model = LogisticRegression(max_iter = 5000)\n",
    "\n",
    "# Train the model\n",
    "model.fit(X_train_undersampled, y_train_undersampled)\n",
    "\n",
    "# Make predictions\n",
    "y_pred = model.predict(X_test)\n"
   ]
  },
  {
   "cell_type": "code",
   "execution_count": 22,
   "id": "c4ccaafb",
   "metadata": {},
   "outputs": [
    {
     "name": "stdout",
     "output_type": "stream",
     "text": [
      "Accuracy: 0.9630104280046347\n",
      "Confusion Matrix:\n",
      "[[54764  2100]\n",
      " [    7    91]]\n",
      "Classification Report:\n",
      "              precision    recall  f1-score   support\n",
      "\n",
      "           0       1.00      0.96      0.98     56864\n",
      "           1       0.04      0.93      0.08        98\n",
      "\n",
      "    accuracy                           0.96     56962\n",
      "   macro avg       0.52      0.95      0.53     56962\n",
      "weighted avg       1.00      0.96      0.98     56962\n",
      "\n"
     ]
    }
   ],
   "source": [
    "# Evaluate the model\n",
    "accuracy = accuracy_score(y_test, y_pred)\n",
    "conf_matrix = confusion_matrix(y_test, y_pred)\n",
    "classification_rep = classification_report(y_test, y_pred)\n",
    "\n",
    "# Print the results\n",
    "print(f\"Accuracy: {accuracy}\")\n",
    "print(f\"Confusion Matrix:\\n{conf_matrix}\")\n",
    "print(f\"Classification Report:\\n{classification_rep}\")"
   ]
  },
  {
   "cell_type": "markdown",
   "id": "88b16d1e",
   "metadata": {},
   "source": [
    "The Matthews Correlation Coefficient is a metric used to evaluate the performance of binary classification models. It ranges from -1 to 1, with 1 being a perfect prediction and - 1 indicating total disagreement between prediction and observation. "
   ]
  },
  {
   "cell_type": "code",
   "execution_count": 23,
   "id": "53e69d98",
   "metadata": {},
   "outputs": [
    {
     "name": "stdout",
     "output_type": "stream",
     "text": [
      "Matthews Correlation Coefficient: 0.1921433459272642\n"
     ]
    }
   ],
   "source": [
    "mcc = matthews_corrcoef(y_test, y_pred)\n",
    "print(\"Matthews Correlation Coefficient:\", mcc)\n",
    "\n"
   ]
  },
  {
   "cell_type": "markdown",
   "id": "1b250069",
   "metadata": {},
   "source": [
    "In terms of model performance, the precision is extremly low with only 4% of instances being actual fraud.\n",
    "\n",
    "Regarding recall, out of all the actual instances of fraud, 93% were corectlly predicted by the model.\n",
    "\n",
    "Overall, when it comes to credit card fraud detection, missing an actual case of fraud is considerably worse than misclassifying a case of non-fraud as fraud. Therefore, in the context of fraud detection this is a decent performing model.\n",
    "\n",
    ". Also logistic regression is very sensitive to outliers which may be a reason for it's poor precision score"
   ]
  },
  {
   "cell_type": "code",
   "execution_count": 24,
   "id": "60d59cd5",
   "metadata": {},
   "outputs": [
    {
     "data": {
      "text/plain": [
       "<Axes: >"
      ]
     },
     "execution_count": 24,
     "metadata": {},
     "output_type": "execute_result"
    },
    {
     "data": {
      "image/png": "[encoded data removed]",
      "text/plain": [
       "<Figure size 800x550 with 2 Axes>"
      ]
     },
     "metadata": {},
     "output_type": "display_data"
    }
   ],
   "source": [
    "names = ['True Neg','False Pos','False Neg','True Pos']\n",
    "counts = [value for value in conf_matrix.flatten()]\n",
    "percentages = ['{0:.2%}'.format(value) for value in conf_matrix.flatten()/np.sum(conf_matrix)]\n",
    "labels = [f'{v1}\\n{v2}\\n{v3}' for v1, v2, v3 in zip(names,counts,percentages)]\n",
    "labels = np.asarray(labels).reshape(2,2)\n",
    "sns.heatmap(conf_matrix,annot = labels,cmap = 'Blues',fmt ='')\n",
    "    "
   ]
  },
  {
   "cell_type": "markdown",
   "id": "30b0c80d",
   "metadata": {},
   "source": [
    "### 5.1.2. K-Nearest Neighbors on UnderSampled Data\n",
    "\n",
    "KNN is a supervised machine learning algorithm that can be used for both regression and classification tasks. The main idea behind KNN is to make predictions based on the majority class of the k-nearest neighbors in the feature space. "
   ]
  },
  {
   "cell_type": "code",
   "execution_count": 25,
   "id": "7655acd3",
   "metadata": {},
   "outputs": [],
   "source": [
    "from sklearn.neighbors import KNeighborsClassifier\n"
   ]
  },
  {
   "cell_type": "code",
   "execution_count": 26,
   "id": "c71b31f1",
   "metadata": {},
   "outputs": [],
   "source": [
    "knn_undersampled_data = KNeighborsClassifier(n_neighbors = 3)\n",
    "\n",
    "knn_undersampled_data.fit(X_train_undersampled, y_train_undersampled)\n",
    "\n",
    "knn_undersampled_preds = knn_undersampled_data.predict(X_test)"
   ]
  },
  {
   "cell_type": "code",
   "execution_count": 27,
   "id": "913a253f",
   "metadata": {},
   "outputs": [
    {
     "name": "stdout",
     "output_type": "stream",
     "text": [
      "Classification Report:\n",
      "               precision    recall  f1-score   support\n",
      "\n",
      "           0       1.00      0.96      0.98     56864\n",
      "           1       0.04      0.89      0.07        98\n",
      "\n",
      "    accuracy                           0.96     56962\n",
      "   macro avg       0.52      0.92      0.52     56962\n",
      "weighted avg       1.00      0.96      0.98     56962\n",
      "\n",
      "Confusion Matrix:\n",
      "[[54554  2310]\n",
      " [   11    87]]\n",
      "Accuracy Score: \n",
      " 0.9592535374460166\n"
     ]
    }
   ],
   "source": [
    "knn_report = classification_report(y_test, knn_undersampled_preds)\n",
    "conf_matrix_knn = confusion_matrix(y_test, knn_undersampled_preds)\n",
    "KNN_acc_undersampled = accuracy_score(y_test, knn_undersampled_preds)\n",
    "\n",
    "\n",
    "print(\"Classification Report:\\n\", knn_report)\n",
    "print(f\"Confusion Matrix:\\n{conf_matrix_knn}\")\n",
    "print(\"Accuracy Score: \\n\", KNN_acc_undersampled)"
   ]
  },
  {
   "cell_type": "markdown",
   "id": "bdc5141c",
   "metadata": {},
   "source": [
    "As we can see, the KNN model performed worse than the logistic regresion model on undersampled data, as both the precision and the recall were lower."
   ]
  },
  {
   "cell_type": "code",
   "execution_count": 28,
   "id": "817cb41c",
   "metadata": {},
   "outputs": [
    {
     "data": {
      "text/plain": [
       "<Axes: >"
      ]
     },
     "execution_count": 28,
     "metadata": {},
     "output_type": "execute_result"
    },
    {
     "data": {
      "image/png": "[encoded data removed]",
      "text/plain": [
       "<Figure size 800x550 with 2 Axes>"
      ]
     },
     "metadata": {},
     "output_type": "display_data"
    }
   ],
   "source": [
    "names = ['True Neg','False Pos','False Neg','True Pos']\n",
    "counts = [value for value in conf_matrix_knn.flatten()]\n",
    "percentages = ['{0:.2%}'.format(value) for value in conf_matrix_knn.flatten()/np.sum(conf_matrix_knn)]\n",
    "labels = [f'{v1}\\n{v2}\\n{v3}' for v1, v2, v3 in zip(names,counts,percentages)]\n",
    "labels = np.asarray(labels).reshape(2,2)\n",
    "sns.heatmap(conf_matrix_knn,annot = labels,cmap = 'Blues',fmt ='')\n",
    "    "
   ]
  },
  {
   "cell_type": "markdown",
   "id": "b1690b37",
   "metadata": {},
   "source": [
    "High number of false positives "
   ]
  },
  {
   "cell_type": "markdown",
   "id": "01f390a3",
   "metadata": {},
   "source": [
    "### 5.1.3. One Class SVM on UnderSampled Data"
   ]
  },
  {
   "cell_type": "code",
   "execution_count": 29,
   "id": "40302316",
   "metadata": {},
   "outputs": [],
   "source": [
    "from sklearn.svm import OneClassSVM\n"
   ]
  },
  {
   "cell_type": "code",
   "execution_count": 30,
   "id": "ab3decb9",
   "metadata": {},
   "outputs": [],
   "source": [
    "one_class_SVM = OneClassSVM(nu = 0.01, kernel = 'rbf', gamma = 0.01)\n",
    "\n",
    "one_class_SVM.fit(X_train_undersampled)\n",
    "\n",
    "one_class_SVM_preds = one_class_SVM.predict(X_test)\n",
    "\n",
    "#Convert predictions to class lables \n",
    "one_class_SVM_preds[one_class_SVM_preds == 1] = 0  # 0 represents normal data\n",
    "one_class_SVM_preds[one_class_SVM_preds == -1] = 1  # 1 represents anomaly"
   ]
  },
  {
   "cell_type": "code",
   "execution_count": 31,
   "id": "47c0f169",
   "metadata": {},
   "outputs": [
    {
     "name": "stdout",
     "output_type": "stream",
     "text": [
      "Confusion Matrix:\n",
      "[[53339  3525]\n",
      " [   71    27]]\n",
      "\n",
      "Classification Report:\n",
      "              precision    recall  f1-score   support\n",
      "\n",
      "           0       1.00      0.94      0.97     56864\n",
      "           1       0.01      0.28      0.01        98\n",
      "\n",
      "    accuracy                           0.94     56962\n",
      "   macro avg       0.50      0.61      0.49     56962\n",
      "weighted avg       1.00      0.94      0.97     56962\n",
      "\n"
     ]
    }
   ],
   "source": [
    "\n",
    "print(\"Confusion Matrix:\")\n",
    "print(confusion_matrix(y_test, one_class_SVM_preds))\n",
    "print(\"\\nClassification Report:\")\n",
    "print(classification_report(y_test, one_class_SVM_preds))\n"
   ]
  },
  {
   "cell_type": "code",
   "execution_count": 32,
   "id": "a7ce642f",
   "metadata": {},
   "outputs": [
    {
     "name": "stdout",
     "output_type": "stream",
     "text": [
      "Matthews Correlation Coefficient: 0.036595098997557494\n"
     ]
    }
   ],
   "source": [
    "mcc_SVM = matthews_corrcoef(y_test, one_class_SVM_preds)\n",
    "print(\"Matthews Correlation Coefficient:\", mcc_SVM)\n"
   ]
  },
  {
   "cell_type": "markdown",
   "id": "fab2b4fa",
   "metadata": {},
   "source": [
    "The One class SVM performs terribly, and as the MCC is near 0 it means that the model is not making meaningful predictions"
   ]
  },
  {
   "cell_type": "markdown",
   "id": "351baea2",
   "metadata": {},
   "source": [
    "### 5.1.4. Logistic Regression on OverSampled Data"
   ]
  },
  {
   "cell_type": "code",
   "execution_count": 33,
   "id": "d6e497e0",
   "metadata": {},
   "outputs": [],
   "source": [
    "#Training using undersampled data\n",
    "# Initialize the Logistic Regression model\n",
    "log_reg_onversample = LogisticRegression(max_iter = 5000)\n",
    "\n",
    "# Train the model\n",
    "log_reg_onversample.fit(X_train_oversampled, y_train_oversampled)\n",
    "\n",
    "# Make predictions\n",
    "LogReg_oversampled = log_reg_onversample.predict(X_test)"
   ]
  },
  {
   "cell_type": "code",
   "execution_count": 34,
   "id": "a6fd8e7e",
   "metadata": {},
   "outputs": [
    {
     "name": "stdout",
     "output_type": "stream",
     "text": [
      "Accuracy: 0.9761771005231558\n",
      "Confusion Matrix:\n",
      "[[55515  1349]\n",
      " [    8    90]]\n",
      "Classification Report:\n",
      "              precision    recall  f1-score   support\n",
      "\n",
      "           0       1.00      0.98      0.99     56864\n",
      "           1       0.06      0.92      0.12        98\n",
      "\n",
      "    accuracy                           0.98     56962\n",
      "   macro avg       0.53      0.95      0.55     56962\n",
      "weighted avg       1.00      0.98      0.99     56962\n",
      "\n"
     ]
    }
   ],
   "source": [
    "LogReg_oversample_acc = accuracy_score(y_test, LogReg_oversampled)\n",
    "LogReG_oversample_conf_matrix = confusion_matrix(y_test, LogReg_oversampled)\n",
    "LogReg_oversample_classification_rep = classification_report(y_test, LogReg_oversampled)\n",
    "\n",
    "# Print the results\n",
    "print(f\"Accuracy: {LogReg_oversample_acc}\")\n",
    "print(f\"Confusion Matrix:\\n{LogReG_oversample_conf_matrix}\")\n",
    "print(f\"Classification Report:\\n{LogReg_oversample_classification_rep}\")"
   ]
  },
  {
   "cell_type": "markdown",
   "id": "def2475d",
   "metadata": {},
   "source": [
    "As we can see, the logistic regression model performed relatively the same on both undesampled and oversampled data. The recall score for the minority class is quite high, however the precision is quite low "
   ]
  },
  {
   "cell_type": "markdown",
   "id": "d59c64ff",
   "metadata": {},
   "source": [
    "### 5.1.5.KNN on OverSampled Data"
   ]
  },
  {
   "cell_type": "code",
   "execution_count": 35,
   "id": "ed0ee8b3",
   "metadata": {},
   "outputs": [],
   "source": [
    "knn_oversampled = KNeighborsClassifier(n_neighbors = 3)\n",
    "\n",
    "knn_oversampled.fit(X_train_oversampled, y_train_oversampled)\n",
    "\n",
    "knn_oversampled_preds = knn_oversampled.predict(X_test)"
   ]
  },
  {
   "cell_type": "code",
   "execution_count": 36,
   "id": "eb1f4f4f",
   "metadata": {},
   "outputs": [
    {
     "name": "stdout",
     "output_type": "stream",
     "text": [
      "Accuracy: \n",
      " 0.999385555282469\n",
      "Classification Report:\n",
      "               precision    recall  f1-score   support\n",
      "\n",
      "           0       1.00      1.00      1.00     56864\n",
      "           1       0.81      0.84      0.82        98\n",
      "\n",
      "    accuracy                           1.00     56962\n",
      "   macro avg       0.91      0.92      0.91     56962\n",
      "weighted avg       1.00      1.00      1.00     56962\n",
      "\n",
      "Confusion Matrix:\n",
      " [[56845    19]\n",
      " [   16    82]]\n"
     ]
    }
   ],
   "source": [
    "knn_report_oversampled = classification_report(y_test, knn_oversampled_preds)\n",
    "conf_matrix_knn_oversampled = confusion_matrix(y_test, knn_oversampled_preds)\n",
    "KNN_acc_oversampled = accuracy_score(y_test, knn_oversampled_preds)\n",
    "\n",
    "print(\"Accuracy: \\n\", KNN_acc_oversampled)\n",
    "print(\"Classification Report:\\n\", knn_report_oversampled)\n",
    "print(\"Confusion Matrix:\\n\", conf_matrix_knn_oversampled)"
   ]
  },
  {
   "cell_type": "code",
   "execution_count": 37,
   "id": "06fd311c",
   "metadata": {},
   "outputs": [
    {
     "name": "stdout",
     "output_type": "stream",
     "text": [
      "Matthews Correlation Coefficient: 0.8239068697706394\n"
     ]
    }
   ],
   "source": [
    "mcc_knn_oversampled = matthews_corrcoef(y_test, knn_oversampled_preds)\n",
    "print(\"Matthews Correlation Coefficient:\", mcc_knn_oversampled)\n",
    "\n"
   ]
  },
  {
   "cell_type": "markdown",
   "id": "0faaf6c9",
   "metadata": {},
   "source": [
    "The KNN model on oversampled data had the best performance with both high recall and high precision. 81% of transactions that have been predicted as fraudulent were actually fraudulent. Moreover, the model is also capturing 84% of the actual fraudulent transactions. However in terms of credit card fraud this number is still too low"
   ]
  },
  {
   "cell_type": "code",
   "execution_count": 38,
   "id": "1b45a515",
   "metadata": {},
   "outputs": [
    {
     "data": {
      "text/plain": [
       "<Axes: >"
      ]
     },
     "execution_count": 38,
     "metadata": {},
     "output_type": "execute_result"
    },
    {
     "data": {
      "image/png": "[encoded data removed]",
      "text/plain": [
       "<Figure size 800x550 with 2 Axes>"
      ]
     },
     "metadata": {},
     "output_type": "display_data"
    }
   ],
   "source": [
    "names = ['True Neg','False Pos','False Neg','True Pos']\n",
    "counts = [value for value in conf_matrix_knn_oversampled.flatten()]\n",
    "percentages = ['{0:.2%}'.format(value) for value in conf_matrix_knn_oversampled.flatten()/np.sum(conf_matrix_knn_oversampled)]\n",
    "labels = [f'{v1}\\n{v2}\\n{v3}' for v1, v2, v3 in zip(names,counts,percentages)]\n",
    "labels = np.asarray(labels).reshape(2,2)\n",
    "sns.heatmap(conf_matrix_knn_oversampled,annot = labels,cmap = 'Blues',fmt ='')"
   ]
  },
  {
   "cell_type": "markdown",
   "id": "b33d7049",
   "metadata": {},
   "source": [
    "### 5.1.6. Logistic Regression on SMOTE "
   ]
  },
  {
   "cell_type": "code",
   "execution_count": 39,
   "id": "d82545ec",
   "metadata": {},
   "outputs": [],
   "source": [
    "#Training using undersampled data\n",
    "# Initialize the Logistic Regression model\n",
    "LR_Smote = LogisticRegression(max_iter = 5000)\n",
    "\n",
    "# Train the model\n",
    "LR_Smote.fit(X_train_SMOTE, y_train_SMOTE)\n",
    "\n",
    "# Make predictions\n",
    "LR_smote_preds = LR_Smote.predict(X_test)\n"
   ]
  },
  {
   "cell_type": "code",
   "execution_count": 40,
   "id": "4abf549a",
   "metadata": {},
   "outputs": [
    {
     "name": "stdout",
     "output_type": "stream",
     "text": [
      "Accuracy: 0.9751764334117482\n",
      "Confusion Matrix:\n",
      "[[55457  1407]\n",
      " [    7    91]]\n",
      "Classification Report:\n",
      "              precision    recall  f1-score   support\n",
      "\n",
      "           0       1.00      0.98      0.99     56864\n",
      "           1       0.06      0.93      0.11        98\n",
      "\n",
      "    accuracy                           0.98     56962\n",
      "   macro avg       0.53      0.95      0.55     56962\n",
      "weighted avg       1.00      0.98      0.99     56962\n",
      "\n"
     ]
    }
   ],
   "source": [
    "LR_Smotee_acc = accuracy_score(y_test, LR_smote_preds)\n",
    "LR_Smote_conf_matrix = confusion_matrix(y_test, LR_smote_preds)\n",
    "LR_Smote_classification_rep = classification_report(y_test, LR_smote_preds)\n",
    "\n",
    "# Print the results\n",
    "print(f\"Accuracy: {LR_Smotee_acc}\")\n",
    "print(f\"Confusion Matrix:\\n{LR_Smote_conf_matrix}\")\n",
    "print(f\"Classification Report:\\n{LR_Smote_classification_rep}\")"
   ]
  },
  {
   "cell_type": "code",
   "execution_count": 41,
   "id": "cea323b0",
   "metadata": {},
   "outputs": [
    {
     "name": "stdout",
     "output_type": "stream",
     "text": [
      "Matthews Correlation Coefficient: 0.23407558595636774\n"
     ]
    }
   ],
   "source": [
    "mcc_logistic_regression_smote = matthews_corrcoef(y_test, LR_smote_preds)\n",
    "print(\"Matthews Correlation Coefficient:\", mcc_logistic_regression_smote)\n"
   ]
  },
  {
   "cell_type": "markdown",
   "id": "02441302",
   "metadata": {},
   "source": [
    "### 5.1.7. KNN on SMOTE "
   ]
  },
  {
   "cell_type": "code",
   "execution_count": 42,
   "id": "8edb4338",
   "metadata": {},
   "outputs": [],
   "source": [
    "knn_smote = KNeighborsClassifier(n_neighbors = 3)\n",
    "\n",
    "knn_smote.fit(X_train_SMOTE, y_train_SMOTE)\n",
    "\n",
    "knn_smote_preds = knn_smote.predict(X_test)"
   ]
  },
  {
   "cell_type": "code",
   "execution_count": 43,
   "id": "012d5498",
   "metadata": {},
   "outputs": [
    {
     "name": "stdout",
     "output_type": "stream",
     "text": [
      "Accuracy: \n",
      " 0.9986131104947158\n",
      "Classification Report:\n",
      "               precision    recall  f1-score   support\n",
      "\n",
      "           0       1.00      1.00      1.00     56864\n",
      "           1       0.56      0.87      0.68        98\n",
      "\n",
      "    accuracy                           1.00     56962\n",
      "   macro avg       0.78      0.93      0.84     56962\n",
      "weighted avg       1.00      1.00      1.00     56962\n",
      "\n",
      "Confusion Matrix:\n",
      " [[56798    66]\n",
      " [   13    85]]\n"
     ]
    }
   ],
   "source": [
    "KNN_smote_acc = accuracy_score(y_test, knn_smote_preds)\n",
    "knn_report_smote = classification_report(y_test, knn_smote_preds)\n",
    "conf_matrix_knn_smote = confusion_matrix(y_test, knn_smote_preds)\n",
    "\n",
    "print(\"Accuracy: \\n\", KNN_smote_acc)\n",
    "print(\"Classification Report:\\n\", knn_report_smote)\n",
    "print(\"Confusion Matrix:\\n\", conf_matrix_knn_smote)"
   ]
  },
  {
   "cell_type": "markdown",
   "id": "0cb05aea",
   "metadata": {},
   "source": [
    "### 6. HyperParameter Tuning "
   ]
  },
  {
   "cell_type": "code",
   "execution_count": 44,
   "id": "375715ee",
   "metadata": {},
   "outputs": [],
   "source": [
    "#This cell is just to get the classification reports of the above models, \n",
    "#and output them in a dictionary to get access to each score \n",
    "\n",
    "classification_rep_log_undersampled = classification_report(y_test, y_pred, output_dict = True)\n",
    "\n",
    "knn_report = classification_report(y_test, knn_undersampled_preds, output_dict = True)\n",
    "\n",
    "LogReg_oversample_classification_rep1 = classification_report(y_test, LogReg_oversampled, output_dict = True)\n",
    "\n",
    "knn_report_oversampled1 = classification_report(y_test, knn_oversampled_preds, output_dict = True)\n",
    "\n",
    "LR_Smote_classification_rep1 = classification_report(y_test, LR_smote_preds, output_dict = True)\n",
    "\n",
    "knn_report_smote1 = classification_report(y_test, knn_smote_preds, output_dict = True)\n",
    "\n",
    "classification_rep1 = classification_report(y_test, y_pred_baseline, output_dict = True)\n"
   ]
  },
  {
   "cell_type": "code",
   "execution_count": 45,
   "id": "178eb393",
   "metadata": {},
   "outputs": [],
   "source": [
    "#Getting the recall and precision for each model, exlucding the one class SVM because of it's terrible performance \n",
    "log_reg_under_precision = classification_rep_log_undersampled['1']['precision']\n",
    "log_reg_under_recall = classification_rep_log_undersampled['1']['recall']\n",
    "\n",
    "knn_under_precision = knn_report['1']['precision']\n",
    "knn_under_recall = knn_report['1']['recall']\n",
    "\n",
    "log_reg_over_precision = LogReg_oversample_classification_rep1 ['1']['precision']\n",
    "log_reg_over_recall = LogReg_oversample_classification_rep1 ['1']['recall']\n",
    "\n",
    "knn_over_precision = knn_report_oversampled1['1']['precision']\n",
    "knn_over_recall = knn_report_oversampled1['1']['recall']\n",
    "\n",
    "log_reg_smote_precision = LR_Smote_classification_rep1['1']['precision']\n",
    "log_reg_smote_recall = LR_Smote_classification_rep1['1']['recall']\n",
    "\n",
    "knn_smote_precision = knn_report_smote1['1']['precision']\n",
    "knn_smote_recall  = knn_report_smote1['1']['recall']\n",
    "\n",
    "\n",
    "baseline_precision = knn_report_smote1['1']['precision']\n",
    "baseline_recall = knn_report_smote1['1']['recall']"
   ]
  },
  {
   "cell_type": "code",
   "execution_count": 46,
   "id": "6f7ce483",
   "metadata": {},
   "outputs": [
    {
     "data": {
      "text/html": [
       "<div>\n",
       "<style scoped>\n",
       "    .dataframe tbody tr th:only-of-type {\n",
       "        vertical-align: middle;\n",
       "    }\n",
       "\n",
       "    .dataframe tbody tr th {\n",
       "        vertical-align: top;\n",
       "    }\n",
       "\n",
       "    .dataframe thead th {\n",
       "        text-align: right;\n",
       "    }\n",
       "</style>\n",
       "<table border=\"1\" class=\"dataframe\">\n",
       "  <thead>\n",
       "    <tr style=\"text-align: right;\">\n",
       "      <th></th>\n",
       "      <th>Precision</th>\n",
       "      <th>Recall</th>\n",
       "      <th>Accuracyy</th>\n",
       "    </tr>\n",
       "    <tr>\n",
       "      <th>Model</th>\n",
       "      <th></th>\n",
       "      <th></th>\n",
       "      <th></th>\n",
       "    </tr>\n",
       "  </thead>\n",
       "  <tbody>\n",
       "    <tr>\n",
       "      <th>BaseLine Model</th>\n",
       "      <td>0.863636</td>\n",
       "      <td>0.581633</td>\n",
       "      <td>0.999122</td>\n",
       "    </tr>\n",
       "    <tr>\n",
       "      <th>LogReg Undersampled</th>\n",
       "      <td>0.041534</td>\n",
       "      <td>0.928571</td>\n",
       "      <td>0.963010</td>\n",
       "    </tr>\n",
       "    <tr>\n",
       "      <th>KNN Undersampled</th>\n",
       "      <td>0.036295</td>\n",
       "      <td>0.887755</td>\n",
       "      <td>0.959254</td>\n",
       "    </tr>\n",
       "    <tr>\n",
       "      <th>LogReg Oversampled</th>\n",
       "      <td>0.062543</td>\n",
       "      <td>0.918367</td>\n",
       "      <td>0.976177</td>\n",
       "    </tr>\n",
       "    <tr>\n",
       "      <th>KNN Oversampled</th>\n",
       "      <td>0.811881</td>\n",
       "      <td>0.836735</td>\n",
       "      <td>0.999386</td>\n",
       "    </tr>\n",
       "    <tr>\n",
       "      <th>LogReg SMOTE</th>\n",
       "      <td>0.060748</td>\n",
       "      <td>0.928571</td>\n",
       "      <td>0.975176</td>\n",
       "    </tr>\n",
       "    <tr>\n",
       "      <th>KNN_Smote</th>\n",
       "      <td>0.562914</td>\n",
       "      <td>0.867347</td>\n",
       "      <td>0.998613</td>\n",
       "    </tr>\n",
       "  </tbody>\n",
       "</table>\n",
       "</div>"
      ],
      "text/plain": [
       "                     Precision    Recall  Accuracyy\n",
       "Model                                              \n",
       "BaseLine Model        0.863636  0.581633   0.999122\n",
       "LogReg Undersampled   0.041534  0.928571   0.963010\n",
       "KNN Undersampled      0.036295  0.887755   0.959254\n",
       "LogReg Oversampled    0.062543  0.918367   0.976177\n",
       "KNN Oversampled       0.811881  0.836735   0.999386\n",
       "LogReg SMOTE          0.060748  0.928571   0.975176\n",
       "KNN_Smote             0.562914  0.867347   0.998613"
      ]
     },
     "execution_count": 46,
     "metadata": {},
     "output_type": "execute_result"
    }
   ],
   "source": [
    "#Creating a dataframe to compare results \n",
    "data = {\n",
    "    'Model': ['BaseLine Model','LogReg Undersampled', 'KNN Undersampled', 'LogReg Oversampled', 'KNN Oversampled', 'LogReg SMOTE', 'KNN_Smote'],\n",
    "    'Precision': [\n",
    "        classification_rep1['1']['precision'],\n",
    "        classification_rep_log_undersampled['1']['precision'],\n",
    "        knn_report['1']['precision'],\n",
    "        LogReg_oversample_classification_rep1['1']['precision'],\n",
    "        knn_report_oversampled1['1']['precision'],\n",
    "        LR_Smote_classification_rep1['1']['precision'],\n",
    "        knn_report_smote1['1']['precision']\n",
    "        \n",
    "    ],\n",
    "    'Recall': [\n",
    "        classification_rep1['1']['recall'],\n",
    "        classification_rep_log_undersampled['1']['recall'],\n",
    "        knn_report['1']['recall'],\n",
    "        LogReg_oversample_classification_rep1['1']['recall'],\n",
    "        knn_report_oversampled1['1']['recall'],\n",
    "        LR_Smote_classification_rep1['1']['recall'],\n",
    "        knn_report_smote1['1']['recall'],\n",
    "        \n",
    "    ],\n",
    "    'Accuracyy' : [\n",
    "        accuracy_baseline,\n",
    "        accuracy, \n",
    "        KNN_acc_undersampled,\n",
    "        LogReg_oversample_acc,\n",
    "        KNN_acc_oversampled,\n",
    "        LR_Smotee_acc,\n",
    "        KNN_smote_acc\n",
    "        \n",
    "        \n",
    "        \n",
    "    ]\n",
    "}\n",
    "\n",
    "df = pd.DataFrame(data).set_index('Model')\n",
    "df"
   ]
  },
  {
   "cell_type": "markdown",
   "id": "1cf04828",
   "metadata": {},
   "source": [
    "While recall is the most important metric it is important to recoginize that precision is also relevant. The KNN model trained on oversampled data has both good precision and recall and will be the one to be fine tuned."
   ]
  },
  {
   "cell_type": "markdown",
   "id": "8b1297c3",
   "metadata": {},
   "source": [
    "Hyperparameter tuning refers to the process of finding the best set of hyperparameters for a given model to optimize its performance. \n",
    "\n",
    "\n",
    "In KNN, there are a few key hypeparameters that you can tune to optimize performance:\n",
    "\n",
    ". Number of neighbours (K)\n",
    "\n",
    ". The distance metric \n",
    "\n",
    ". Weights \n"
   ]
  },
  {
   "cell_type": "code",
   "execution_count": 54,
   "id": "463c7b39",
   "metadata": {},
   "outputs": [
    {
     "name": "stdout",
     "output_type": "stream",
     "text": [
      "Best Hyperparameters: {'metric': 'manhattan', 'n_neighbors': 3, 'weights': 'distance'}\n"
     ]
    }
   ],
   "source": [
    "\n",
    "#Define the KNN classifier\n",
    "#knn = KNeighborsClassifier()\n",
    "\n",
    "# Define the hyperparameters and their possible values\n",
    "#param_grid = {\n",
    "#    'n_neighbors': [3, 5, 7, 9],\n",
    "#    'weights': ['uniform', 'distance'],\n",
    "#    'metric': ['euclidean', 'manhattan']\n",
    "#}\n",
    "\n",
    "# Use GridSearchCV to find the best hyperparameters\n",
    "#grid_search = GridSearchCV(knn, param_grid, cv=5, scoring='recall')\n",
    "#grid_search.fit(X_train, y_train)\n",
    "\n",
    "# Print the best hyperparameters\n",
    "#print(\"Best Hyperparameters:\", grid_search.best_params_)"
   ]
  },
  {
   "cell_type": "markdown",
   "id": "a3bb0416",
   "metadata": {},
   "source": [
    "The best parameters are listed below:\n",
    "\n",
    "Best Hyperparameters: {'metric': 'manhattan', 'n_neighbors': 9, 'weights': 'distance'}\n"
   ]
  },
  {
   "cell_type": "code",
   "execution_count": 48,
   "id": "5cd8f540",
   "metadata": {},
   "outputs": [
    {
     "data": {
      "text/html": [
       "<style>#sk-container-id-1 {color: black;background-color: white;}#sk-container-id-1 pre{padding: 0;}#sk-container-id-1 div.sk-toggleable {background-color: white;}#sk-container-id-1 label.sk-toggleable__label {cursor: pointer;display: block;width: 100%;margin-bottom: 0;padding: 0.3em;box-sizing: border-box;text-align: center;}#sk-container-id-1 label.sk-toggleable__label-arrow:before {content: \"▸\";float: left;margin-right: 0.25em;color: #696969;}#sk-container-id-1 label.sk-toggleable__label-arrow:hover:before {color: black;}#sk-container-id-1 div.sk-estimator:hover label.sk-toggleable__label-arrow:before {color: black;}#sk-container-id-1 div.sk-toggleable__content {max-height: 0;max-width: 0;overflow: hidden;text-align: left;background-color: #f0f8ff;}#sk-container-id-1 div.sk-toggleable__content pre {margin: 0.2em;color: black;border-radius: 0.25em;background-color: #f0f8ff;}#sk-container-id-1 input.sk-toggleable__control:checked~div.sk-toggleable__content {max-height: 200px;max-width: 100%;overflow: auto;}#sk-container-id-1 input.sk-toggleable__control:checked~label.sk-toggleable__label-arrow:before {content: \"▾\";}#sk-container-id-1 div.sk-estimator input.sk-toggleable__control:checked~label.sk-toggleable__label {background-color: #d4ebff;}#sk-container-id-1 div.sk-label input.sk-toggleable__control:checked~label.sk-toggleable__label {background-color: #d4ebff;}#sk-container-id-1 input.sk-hidden--visually {border: 0;clip: rect(1px 1px 1px 1px);clip: rect(1px, 1px, 1px, 1px);height: 1px;margin: -1px;overflow: hidden;padding: 0;position: absolute;width: 1px;}#sk-container-id-1 div.sk-estimator {font-family: monospace;background-color: #f0f8ff;border: 1px dotted black;border-radius: 0.25em;box-sizing: border-box;margin-bottom: 0.5em;}#sk-container-id-1 div.sk-estimator:hover {background-color: #d4ebff;}#sk-container-id-1 div.sk-parallel-item::after {content: \"\";width: 100%;border-bottom: 1px solid gray;flex-grow: 1;}#sk-container-id-1 div.sk-label:hover label.sk-toggleable__label {background-color: #d4ebff;}#sk-container-id-1 div.sk-serial::before {content: \"\";position: absolute;border-left: 1px solid gray;box-sizing: border-box;top: 0;bottom: 0;left: 50%;z-index: 0;}#sk-container-id-1 div.sk-serial {display: flex;flex-direction: column;align-items: center;background-color: white;padding-right: 0.2em;padding-left: 0.2em;position: relative;}#sk-container-id-1 div.sk-item {position: relative;z-index: 1;}#sk-container-id-1 div.sk-parallel {display: flex;align-items: stretch;justify-content: center;background-color: white;position: relative;}#sk-container-id-1 div.sk-item::before, #sk-container-id-1 div.sk-parallel-item::before {content: \"\";position: absolute;border-left: 1px solid gray;box-sizing: border-box;top: 0;bottom: 0;left: 50%;z-index: -1;}#sk-container-id-1 div.sk-parallel-item {display: flex;flex-direction: column;z-index: 1;position: relative;background-color: white;}#sk-container-id-1 div.sk-parallel-item:first-child::after {align-self: flex-end;width: 50%;}#sk-container-id-1 div.sk-parallel-item:last-child::after {align-self: flex-start;width: 50%;}#sk-container-id-1 div.sk-parallel-item:only-child::after {width: 0;}#sk-container-id-1 div.sk-dashed-wrapped {border: 1px dashed gray;margin: 0 0.4em 0.5em 0.4em;box-sizing: border-box;padding-bottom: 0.4em;background-color: white;}#sk-container-id-1 div.sk-label label {font-family: monospace;font-weight: bold;display: inline-block;line-height: 1.2em;}#sk-container-id-1 div.sk-label-container {text-align: center;}#sk-container-id-1 div.sk-container {/* jupyter's `normalize.less` sets `[hidden] { display: none; }` but bootstrap.min.css set `[hidden] { display: none !important; }` so we also need the `!important` here to be able to override the default hidden behavior on the sphinx rendered scikit-learn.org. See: https://github.com/scikit-learn/scikit-learn/issues/21755 */display: inline-block !important;position: relative;}#sk-container-id-1 div.sk-text-repr-fallback {display: none;}</style><div id=\"sk-container-id-1\" class=\"sk-top-container\"><div class=\"sk-text-repr-fallback\"><pre>KNeighborsClassifier(metric=&#x27;manhattan&#x27;, n_neighbors=9, weights=&#x27;distance&#x27;)</pre><b>In a Jupyter environment, please rerun this cell to show the HTML representation or trust the notebook. <br />On GitHub, the HTML representation is unable to render, please try loading this page with nbviewer.org.</b></div><div class=\"sk-container\" hidden><div class=\"sk-item\"><div class=\"sk-estimator sk-toggleable\"><input class=\"sk-toggleable__control sk-hidden--visually\" id=\"sk-estimator-id-1\" type=\"checkbox\" checked><label for=\"sk-estimator-id-1\" class=\"sk-toggleable__label sk-toggleable__label-arrow\">KNeighborsClassifier</label><div class=\"sk-toggleable__content\"><pre>KNeighborsClassifier(metric=&#x27;manhattan&#x27;, n_neighbors=9, weights=&#x27;distance&#x27;)</pre></div></div></div></div></div>"
      ],
      "text/plain": [
       "KNeighborsClassifier(metric='manhattan', n_neighbors=9, weights='distance')"
      ]
     },
     "execution_count": 48,
     "metadata": {},
     "output_type": "execute_result"
    }
   ],
   "source": [
    "knn_hypertuned = KNeighborsClassifier(n_neighbors=9, weights='distance', metric='manhattan')\n",
    "\n",
    "knn_hypertuned.fit(X_train_oversampled, y_train_oversampled)"
   ]
  },
  {
   "cell_type": "code",
   "execution_count": 49,
   "id": "01d74071",
   "metadata": {},
   "outputs": [],
   "source": [
    "knn_tuned_predictions = knn_hypertuned.predict(X_test)\n"
   ]
  },
  {
   "cell_type": "code",
   "execution_count": 52,
   "id": "0ae79d00",
   "metadata": {},
   "outputs": [
    {
     "name": "stdout",
     "output_type": "stream",
     "text": [
      "Accuracy: 0.9988413328183702\n",
      "Confusion Matrix:\n",
      "[[56810    54]\n",
      " [   12    86]]\n",
      "Classification Report:\n",
      "              precision    recall  f1-score   support\n",
      "\n",
      "           0       1.00      1.00      1.00     56864\n",
      "           1       0.61      0.88      0.72        98\n",
      "\n",
      "    accuracy                           1.00     56962\n",
      "   macro avg       0.81      0.94      0.86     56962\n",
      "weighted avg       1.00      1.00      1.00     56962\n",
      "\n"
     ]
    }
   ],
   "source": [
    "knn_tuned_accuracy = accuracy_score(y_test, knn_tuned_predictions)\n",
    "knn_tuned_conf_matrix = confusion_matrix(y_test, knn_tuned_predictions)\n",
    "knn_tuned_class_rep = classification_report(y_test, knn_tuned_predictions)\n",
    "\n",
    "# Print the results\n",
    "print(f\"Accuracy: {knn_tuned_accuracy}\")\n",
    "print(f\"Confusion Matrix:\\n{knn_tuned_conf_matrix}\")\n",
    "print(f\"Classification Report:\\n{knn_tuned_class_rep}\")"
   ]
  },
  {
   "cell_type": "code",
   "execution_count": 53,
   "id": "26512f8f",
   "metadata": {},
   "outputs": [
    {
     "name": "stdout",
     "output_type": "stream",
     "text": [
      "Matthews Correlation Coefficient: 0.7336883417972658\n"
     ]
    }
   ],
   "source": [
    "knn_tuned_MC = matthews_corrcoef(y_test, knn_tuned_predictions)\n",
    "print(\"Matthews Correlation Coefficient:\", knn_tuned_MC)\n"
   ]
  },
  {
   "cell_type": "markdown",
   "id": "8058cd51",
   "metadata": {},
   "source": [
    "Overall, by changing the parameters of the KNN model we were able to get higher recall and higher precision with the trade off being training time. However, more improvement is needed to minimize false positives. A potential way to do this would be to sacrifice precision in order to get better recall. "
   ]
  }
 ],
 "metadata": {
  "kernelspec": {
   "display_name": "Python 3 (ipykernel)",
   "language": "python",
   "name": "python3"
  },
  "language_info": {
   "codemirror_mode": {
    "name": "ipython",
    "version": 3
   },
   "file_extension": ".py",
   "mimetype": "text/x-python",
   "name": "python",
   "nbconvert_exporter": "python",
   "pygments_lexer": "ipython3",
   "version": "3.10.9"
  }
 },
 "nbformat": 4,
 "nbformat_minor": 5
}
